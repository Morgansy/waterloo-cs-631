{
 "cells": [
  {
   "cell_type": "markdown",
   "metadata": {},
   "source": [
    "## CS431/631 Data Intensive Distributed Analytics\n",
    "### Winter 2020 - Assignment 2\n",
    "---"
   ]
  },
  {
   "cell_type": "markdown",
   "metadata": {},
   "source": [
    "**Please edit this (text) cell to provide your name and UW student ID number!**\n",
    "* **Name:** _Yan Shi_\n",
    "* **ID:** _20809455_"
   ]
  },
  {
   "cell_type": "markdown",
   "metadata": {},
   "source": [
    "---\n",
    "#### Overview\n",
    "For this assignment, you will be using Python and Spark to analyze the [pointwise mutual information (PMI)](http://en.wikipedia.org/wiki/Pointwise_mutual_information) of tokens in the text of Shakespeare's plays.    For this assignment, you will need the same text file (`Shakespeare.txt`) and Python tokenizer module, `simple_tokenize.py`, that you used for the first two assignments.    You will also use the same definition of PMI that was used for [Assignment 1](https://www.student.cs.uwaterloo.ca/~cs451/assignment1-431.html).\n",
    "\n",
    "To use Spark from within a Python program, it is first necessary to tell the Python interpreter where the Spark installation is located.   You will be using the Spark installation in the CS451 course account.   The code in the following cell tells Python how to find this Spark installation.   Before going on, execute that code (by selecting the cell and hitting 'return' while holding down the shift key).   It will take a few seconds to run, and will produce no output."
   ]
  },
  {
   "cell_type": "code",
   "execution_count": 1,
   "metadata": {},
   "outputs": [],
   "source": [
    "import findspark\n",
    "findspark.init(\"/u/cs451/packages/spark\")\n",
    "\n",
    "from pyspark import SparkContext, SparkConf"
   ]
  },
  {
   "cell_type": "markdown",
   "metadata": {},
   "source": [
    "Once Python knows where Spark is located, you can create a `SparkContext`.   All Spark commands must run within an active `SparkContext`.   The code below will create a `SparkContext`, and store a reference to the context in the variable `sc`. \n",
    "The `appName` parameter assigns a name of your choosing to the Spark jobs that are created in this context - this is useful mostly for debugging.   The `master` parameter indicates that Spark jobs will run in local mode, using two threads.   This means that your Spark jobs are not really running on a cluster (since we do not have a Spark cluster in the CS student computing environment), and are instead running in a single process on the local machine.   You program Spark jobs the same way whether they run in local mode or on a cluster - the main difference between local and cluster modes is, of course, performance.\n",
    "\n",
    "Run the code in the cell below to create a Spark context.   Creating the `SparkContext` causes your Python program (running in this notebook) to prepare to run Spark jobs, and will take a few seconds to complete.  Be sure that you run this code only one time, because a single Python program may only have one active SparkContext."
   ]
  },
  {
   "cell_type": "code",
   "execution_count": 2,
   "metadata": {},
   "outputs": [],
   "source": [
    "sc = SparkContext(appName=\"YourTest\", master=\"local[2]\")"
   ]
  },
  {
   "cell_type": "markdown",
   "metadata": {},
   "source": [
    "Next, let's test that your `SparkContext` has been set up properly by running some simple test code (adapted from the [Spark examples page](https://spark.apache.org/examples.html)).   This code uses a single Spark job to estimate the value of $\\pi$.  `parallelize()` and `filter()` are Spark *transformations*, and `count()` is a Spark *action*.   Study the code in the cell below, then go ahead and run it.   It should take a few seconds, since a Spark job is being created and executed, and should print an estimate of $\\pi$ when it finishes.   "
   ]
  },
  {
   "cell_type": "code",
   "execution_count": 3,
   "metadata": {},
   "outputs": [
    {
     "name": "stdout",
     "output_type": "stream",
     "text": [
      "3.1415544\n"
     ]
    }
   ],
   "source": [
    "import random\n",
    "\n",
    "num_samples = 100000000\n",
    "\n",
    "def inside(p):     \n",
    "  x, y = random.random(), random.random()\n",
    "  return x*x + y*y < 1\n",
    "\n",
    "count = sc.parallelize(range(0, num_samples)).filter(inside).count()\n",
    "\n",
    "pi_estimate = 4 * count / num_samples\n",
    "print(pi_estimate)"
   ]
  },
  {
   "cell_type": "markdown",
   "metadata": {},
   "source": [
    "---\n",
    "#### Question 1  (4/30 marks):\n",
    "\n",
    "In the following cell, briefly explain how the $\\pi$-estimation example works.   What is the Spark job doing, and how is it used to estimate the value of $\\pi$?"
   ]
  },
  {
   "cell_type": "markdown",
   "metadata": {},
   "source": [
    "#### Your answer to Question 1:\n",
    "\n",
    "*The spark job here is to cut origin dataset into partitions, generate RDDs and do the parallel operation. In question 1, the origin dataset is the range from 0 to $100000000$, for each item in the dataset, we generate a random number $(x,y)$, where $x \\in (0,1)$ and $y \\in (0,1)$, since we only used $x^2$ and $y^2$ here, $x$ and $y$ can also be regard as negative, this means all these points are in the square with vertices $(-1,1)$, $(1,1)$, $(-1,-1)$, $(1,-1)$. Also, there is a inscribed circle with center $(0,0)$ and radius $1$ in this square, the function above is to select points which are in the inscribed circle from all the $100000000$ points in square. Then we estimate the area of circle by the following formula: $$\\frac{area\\ of\\ circle}{area\\ of\\ square} = \\frac{number\\ of\\ points\\ in\\ circle}{number\\ of\\ points\\ in\\  square}$$ then knowing that ${area\\ of\\ circle} = {\\pi}*1^2 = {\\pi}$, ${area\\ of\\ square} = 2^2 = 4$, we get the formula for estimating ${\\pi}$: ${\\pi} = 4*\\frac{number\\ of\\ points\\ in\\ circle}{number\\ of\\ points\\ in\\  square}$, which is what we did in the above python code.*"
   ]
  },
  {
   "cell_type": "markdown",
   "metadata": {},
   "source": [
    "---\n",
    "### Important\n",
    "\n",
    "###### The questions that follow ask you to implement functions whose prototypes are given to you. Do **NOT** change the prototypes of the functions. Do **NOT** write code outside of the functions. All necessary code should be included in the function body (except for import statements). You may declare functions inside of the function body. When marking, we will execute your code by calling the functions from an external program, which is why your code cannot rely on statements running outside functions. Please remove any call to the functions that you may have introduced for test purposes before submitting your notebook."
   ]
  },
  {
   "cell_type": "markdown",
   "metadata": {},
   "source": [
    "---\n",
    "#### Question 2  (4/30 marks):\n",
    "\n",
    "Now it is your turn to write some Spark programs. Start with the simple task of counting the number of *distinct* tokens which appear in `Shakespeare.txt`.   You have already written Python code to do this in Assignment 1, but for this assignment we want you to use Spark to solve the same problem.   You should compare the answer you get using Spark with the answer you got from your pure-Python solution from Assignment 1.   Both answers should, of course, be the same.\n",
    "\n",
    "Your code should use Spark, not the Python driver code, to read `Shakespeare.txt` and do the counting.   The idea is to use Spark to give you a data-parallel alternative to the sequential Python solution you wrote for Assignment 1.\n",
    "\n",
    "Write your solution for question 2 in the code cell below, by implementing the `count_distinct_tokens` function. It should use the `SparkContext` which was created previously (referenced by the variable `sc`). The function `count_distinct_tokens` must return the number of distinct tokens."
   ]
  },
  {
   "cell_type": "code",
   "execution_count": 4,
   "metadata": {},
   "outputs": [],
   "source": [
    "from simple_tokenize import simple_tokenize\n",
    "\n",
    "# Returns the count of distinct tokens in the `Shakespeare.txt` dataset\n",
    "def count_distinct_tokens():\n",
    "    # your solution to Question 2 here\n",
    "    lines = sc.textFile(\"Shakespeare.txt\")\n",
    "    words = lines.flatMap(simple_tokenize).distinct()\n",
    "    tokenCount = words.count()\n",
    "    return tokenCount"
   ]
  },
  {
   "cell_type": "markdown",
   "metadata": {},
   "source": [
    "---\n",
    "#### Question 3  (4/30 marks):\n",
    "\n",
    "Next, write a Spark program that will count the number of distinct token pairs in `Shakespeare.txt`, as you did in Assignment 1. Again, ensure that the answer that you get using Spark matches the answer you got in the first assignment.\n",
    "\n",
    "Write your solution for question 3 by implementing the `count_distinct_pairs` function in the code cell below.   It should use the `SparkContext` which was created previously (referenced by the variable `sc`). The function `count_distinct_pairs` must return the number of distinct token pairs."
   ]
  },
  {
   "cell_type": "code",
   "execution_count": 14,
   "metadata": {},
   "outputs": [],
   "source": [
    "from simple_tokenize import simple_tokenize\n",
    "\n",
    "# Returns the count of distinct pairs in the `Shakespeare.txt` dataset\n",
    "def count_distinct_pairs():\n",
    "    import itertools\n",
    "    # your solution to Question 3 here\n",
    "    lines = sc.textFile(\"Shakespeare.txt\")\n",
    "    tokenPairs = lines.flatMap(lambda l: itertools.product(simple_tokenize(l), simple_tokenize(l)))\n",
    "    tokenPairs = tokenPairs.filter(lambda tp: tp[0]!=tp[1]).distinct()\n",
    "    tokenPairsCount = tokenPairs.count()\n",
    "    return tokenPairsCount"
   ]
  },
  {
   "cell_type": "markdown",
   "metadata": {},
   "source": [
    "---\n",
    "#### Question 4  (6/30 marks):\n",
    "\n",
    "Next, write Spark code that will calculate the probability $p(x)$ (as defined in Assignment 1) for every distinct token $x$ in `Shakespeare.txt`.   Your function should return the 50 highest-probability tokens, and their counts and probabilities.\n",
    "\n",
    "Make sure that your solution calculates probabilities and identifies the 50 highest-probability tokens in a data-parallel fashion, using Spark transformations and actions.   Only the 50 highest-probability tokens (and their counts and probabilities) should be returned by Spark to your driver code.\n",
    "\n",
    "Write your solution for question 4 by implementing the `top_50_tokens_probabilities` function in the code cell below. It should use the `SparkContext` which was created previously (referenced by the variable `sc`). The function `top_50_tokens_probabilities` must return a list of 50 (probability, count, token) tuples, ordered by probability, that is, the list returned by the function should be of the form: `[(proba1, count1, token1), (proba2, count2, token2), ..., (proba50, count50, token50)]`"
   ]
  },
  {
   "cell_type": "code",
   "execution_count": 19,
   "metadata": {},
   "outputs": [],
   "source": [
    "from simple_tokenize import simple_tokenize\n",
    "\n",
    "# Returns a list of the top 50 (probability, count, token) tuples, ordered by probability\n",
    "def top_50_tokens_probabilities():\n",
    "\n",
    "    # your solution to Question 4 here\n",
    "    lines = sc.textFile(\"Shakespeare.txt\")\n",
    "    numLines = lines.count()\n",
    "    tokens = lines.flatMap(lambda x: list(set(simple_tokenize(x))))\n",
    "    tokenCount = tokens.countByValue()\n",
    "    tokenCount = sc.parallelize(dict(tokenCount).items())\n",
    "    tokenCount50 = tokenCount.takeOrdered(50, lambda x: -x[1])\n",
    "    \n",
    "    def three_items_pair(i):\n",
    "        '''\n",
    "        numlines: number of lines of the text; being used to calculate probability\n",
    "\n",
    "        wordCount: list of tuples, first item is token, second item is number of occurence\n",
    "        '''\n",
    "        return (i[1]/numLines, i[1], i[0])\n",
    "    \n",
    "    tokenCount50 = sc.parallelize(tokenCount50).map(lambda x: three_items_pair(x)).collect()\n",
    "    \n",
    "    return tokenCount50"
   ]
  },
  {
   "cell_type": "markdown",
   "metadata": {},
   "source": [
    "---\n",
    "#### Question 5  (6/30 marks):\n",
    "\n",
    "Next, write the code for the function `PMI` that will take a positive integer threshold $T$ as an argument, and then return all token pairs that co-occur at least $T$ times in `Shakespeare.txt`.   For each such pair $(x,y)$, the function should also return PMI$(x,y)$, the co-occurrence count of the pair, the number of times $x$ appears, and the number of times $y$ appears. You can compare the results produced by this code with the results of Two-Token queries (from Assignment 1) for consistency.\n",
    "\n",
    "Write your solution for question 5 by implementing the function `PMI` in the code cell below. It should use the `SparkContext` which was created previously (referenced by the variable `sc`). The function `PMI` should return a list of ((token1, token2), pmi, co-occurrence_count, token1_count, token2_count) tuples, that is, the list returned by the function should be of the form: `[((token1, token2), pmi, cooc_count, token1_count, token2_count), (...), ((other_token1, other_token2), other_pmi, other_cooc_count, other_token1_count, other_token2_count)]`.\n",
    "\n",
    "\n",
    "As always, calculations should be done in data-parallel fashion by using Spark."
   ]
  },
  {
   "cell_type": "code",
   "execution_count": 21,
   "metadata": {},
   "outputs": [],
   "source": [
    "from simple_tokenize import simple_tokenize\n",
    "from math import log\n",
    "\n",
    "# Returns a list of tuples with the following format:\n",
    "# ((token1, token2), pmi, co-occurrence_count, token1_count, token2_count)\n",
    "def PMI(threshold):\n",
    "    # your solution to Question 5 here\n",
    "    \n",
    "    def calPMI(x, y, xy): \n",
    "        return log((xy/n) / ((x/n) * (y/n)), 10)\n",
    "    \n",
    "    def tokenpairs(l):\n",
    "        pairsList = []\n",
    "        l = simple_tokenize(l)\n",
    "        for i in range(0, len(l)):\n",
    "            for j in range(i+1, len(l)):\n",
    "                if l[i] != l[j]:\n",
    "                    pairsList.append(tuple(sorted([l[i], l[j]])))\n",
    "        return list(set(pairsList))\n",
    "            \n",
    "    lines = sc.textFile(\"Shakespeare.txt\")\n",
    "    n = lines.count()\n",
    "    tokens = lines.flatMap(lambda x: list(set(simple_tokenize(x))))\n",
    "    tokensCount = sc.parallelize(tokens.countByValue().items())\n",
    "    tokenPairs = lines.flatMap(tokenpairs)\n",
    "    tPCount = sc.parallelize(tokenPairs.countByValue().items()).filter(lambda x: x[1]>=threshold)\n",
    "    \n",
    "    results = tPCount.map(lambda x: (x[0][0], (x[0], x[1]))).leftOuterJoin(tokensCount)\n",
    "    results = results.map(lambda x: (x[1][0][0][1], (x[0], x[1]))).leftOuterJoin(tokensCount)\n",
    "    results = results.map(lambda x: (x[1][0][1][0][0], calPMI(x[1][0][1][1], x[1][1], x[1][0][1][0][1]),\\\n",
    "                                     x[1][0][1][0][1], x[1][0][1][1], x[1][1]))\n",
    "    \n",
    "    return results.collect()"
   ]
  },
  {
   "cell_type": "markdown",
   "metadata": {},
   "source": [
    "---\n",
    "#### Question 6  (6/30 marks):\n",
    "\n",
    "Finally, write Spark code for the function `PMI_one_token`, that will take a positive integer threshold $T$ and a sample size $N$ as arguments. For every token $x$ in `Shakespeare.txt`, your code should find all tokens $y$ that co-occur with $x$ at least $T$ times, as well as PMI$(x,y)$ for each such pair, the co-occurrence count of the pair, the number of times $x$ appears, and the number of times $y$ appears.\n",
    "\n",
    "For each $x$, the output of your program should be equivalent to the output that would be produced by a One-Token query on $x$ (see Assignment 1), with threshold $T$. Rather than producing output for all possible tokens $x$, the function should produce output only for $N$ different $x$'s, chosen at random from among all distinct tokens in the input file.\n",
    "\n",
    "Write your solution for question 6 by implementing the function `PMI_one_token` in the code cell below. It should use the `SparkContext` which was created previously (referenced by the variable `sc`). The function `PMI_one_token` should return a list of $N$ tuples of the form `(token, [ list_of_cooccurring_tokens ])`, where each entry in `list_of_cooccurring_tokens` is of the form `((token1, token2), pmi, cooc_count, token1_count, token2_count)`.\n",
    "\n",
    "For instance, if $N$ = 2 and the randomly selected tokens are \"if\" and \"you\", a valid format for the value returned by `PMI_one_token` would be:\n",
    "```\n",
    "[('if', [(('if', 'you'), -0.09813466615111513, 1975, 16624, 18237), (('if', 'a'), 0.03856379243802408, 1568, 16624, 10569)]), ('you', [(('you', 'if'), -0.09813466615111513, 1975, 18237, 16624)])]\n",
    "```\n"
   ]
  },
  {
   "cell_type": "code",
   "execution_count": 27,
   "metadata": {},
   "outputs": [],
   "source": [
    "from simple_tokenize import simple_tokenize\n",
    "from math import log\n",
    "import itertools\n",
    "\n",
    "# Returns a list of samp_size tuples with the following format:\n",
    "# (token, [ list_of_cooccurring_tokens ])\n",
    "# where list_of_cooccurring_tokens is of the form\n",
    "# [((token1, token2), pmi, cooc_count, token1_count, token2_count), ...]\n",
    "def PMI_one_token(threshold, samp_size):\n",
    "    # your solution to Question 6 here\n",
    "    \n",
    "    def one_token_pair(line):\n",
    "        l = list(set(simple_tokenize(line)))\n",
    "        tpList = []\n",
    "        for i in l:\n",
    "            if i in tokenList:\n",
    "                tpList.extend(list(itertools.product([i], l)))\n",
    "                tpList.remove((i,i))\n",
    "        return tpList\n",
    "    \n",
    "    def calPMI(x, y, xy): \n",
    "        return log((xy/n) / ((x/n) * (y/n)), 10)\n",
    "    \n",
    "    lines = sc.textFile(\"Shakespeare.txt\")\n",
    "    n = lines.count()\n",
    "    tokens = lines.flatMap(lambda x: list(set(simple_tokenize(x))))\n",
    "    tokenList = tokens.distinct().takeSample(withReplacement=False, num = samp_size)\n",
    "    tokensCount = sc.parallelize(tokens.countByValue().items())\n",
    "    oneTokenPairs = lines.flatMap(one_token_pair)\n",
    "    pairsCount = sc.parallelize(oneTokenPairs.countByValue().items()).filter(lambda x: x[1]>=threshold)\n",
    "    \n",
    "    results = pairsCount.map(lambda x: (x[0][0], (x[0], x[1]))).leftOuterJoin(tokensCount)\n",
    "    results = results.map(lambda x: (x[1][0][0][1], (x[0], x[1]))).leftOuterJoin(tokensCount)\n",
    "    results = results.map(lambda x: (x[1][0][1][0][0], calPMI(x[1][0][1][1], x[1][1], x[1][0][1][0][1]),\\\n",
    "                                     x[1][0][1][0][1], x[1][0][1][1], x[1][1]))\n",
    "    results = results.map(lambda x: (x[0][0],x)).groupByKey().map(lambda x: (x[0], list(x[1])))\n",
    "    \n",
    "    return results.collect()"
   ]
  },
  {
   "cell_type": "markdown",
   "metadata": {},
   "source": [
    "---\n",
    "Don't forget to save your workbook!   When you are finished and you are ready to submit your assignment, download your notebook file (.ipynb) from the hub to your machine, and then follow the submission instructions in the assignment."
   ]
  }
 ],
 "metadata": {
  "kernelspec": {
   "display_name": "Python 3",
   "language": "python",
   "name": "python3"
  },
  "language_info": {
   "codemirror_mode": {
    "name": "ipython",
    "version": 3
   },
   "file_extension": ".py",
   "mimetype": "text/x-python",
   "name": "python",
   "nbconvert_exporter": "python",
   "pygments_lexer": "ipython3",
   "version": "3.6.8"
  }
 },
 "nbformat": 4,
 "nbformat_minor": 2
}
