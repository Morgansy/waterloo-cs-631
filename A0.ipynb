{
 "cells": [
  {
   "cell_type": "markdown",
   "metadata": {
    "deletable": false,
    "tags": [
     "instructions"
    ]
   },
   "source": [
    "## CS431/631 Data Intensive Distributed Analytics\n",
    "### Winter 2020 - Assignment 0\n",
    "---"
   ]
  },
  {
   "cell_type": "markdown",
   "metadata": {
    "deletable": false,
    "tags": [
     "instructions"
    ]
   },
   "source": [
    "**Please edit this (text) cell to provide your name and UW student ID number!**\n",
    "* **Name:** _Yan Shi_\n",
    "* **ID:** _20809455_"
   ]
  },
  {
   "cell_type": "markdown",
   "metadata": {
    "deletable": false,
    "tags": [
     "instructions"
    ]
   },
   "source": [
    "---\n",
    "For this assignment, you will be using Python to do some analysis of the text of Shakespeare's plays.    You should already have uploaded the text file (`Shakespeare.txt`) to the hub.   You should also have downloaded the Python tokenizer module, as `simple_tokenize.py`.\n",
    "\n",
    "Let's first try running some simple Python code to make sure that everything is set up properly and ready to go.   The code in the next box will open `Shakespeare.txt`, read the file line by line, and tokenize each line that it reads in.    Try running the code by selecting the box and typing `Shift-Return`, i.e., hit the carriage return key while you are holding the shift key.   It may take a few seconds to run."
   ]
  },
  {
   "cell_type": "code",
   "execution_count": 2,
   "metadata": {
    "deletable": false,
    "tags": [
     "instructions"
    ]
   },
   "outputs": [
    {
     "data": {
      "text/plain": [
       "['the', 'end']"
      ]
     },
     "execution_count": 2,
     "metadata": {},
     "output_type": "execute_result"
    }
   ],
   "source": [
    "# this imports the SimpleTokenize function from the simple_tokenize.py file that you uploaded\n",
    "from simple_tokenize import simple_tokenize\n",
    "\n",
    "# Now, let's tokenize Shakespeare's plays\n",
    "filename = 'Shakespeare.txt'\n",
    "with open(filename) as f:\n",
    "    for line in f:\n",
    "        # tokenize, one line at a time\n",
    "        t = simple_tokenize(line)\n",
    "t"
   ]
  },
  {
   "cell_type": "markdown",
   "metadata": {
    "deletable": false,
    "tags": [
     "instructions"
    ]
   },
   "source": [
    "---\n",
    "### Important\n",
    "\n",
    "The questions that follow ask you to implement functions whose prototypes are given to you. **Do _not_ change the prototypes of the functions. Do _not_ write code outside of the functions.** In particular, do not use the same cell as the function declaration invoke the function.\n",
    "\n",
    "You may use specific cells, identified by `# Your tests here`, for test purposes. Code in these cells will *not* be executed when marking your assignment.\n",
    "\n",
    "---"
   ]
  },
  {
   "cell_type": "markdown",
   "metadata": {
    "deletable": false,
    "tags": [
     "instructions"
    ]
   },
   "source": [
    "#### Question 1  (2/10 marks):\n",
    "When the code is being executed, the cell number will change to \\*, i.e., you should see `In [*]` in the left margin next to the cell.   After the code has finished running, the cell number will change to `In [1]` (indicating that this is the first code cell to be executed) and the notebook will display the resulting output immediately after cell.   In this case, you shoueld see the output\n",
    "`['the', 'end']`.   In the next cell, briefly explain why the code produced this output.\n"
   ]
  },
  {
   "cell_type": "markdown",
   "metadata": {
    "deletable": false,
    "tags": [
     "answer"
    ]
   },
   "source": [
    "#### Your answer to Question 1:\n",
    "*The simple_tokenize function is to tokenize the lowercase of text line by line, it segments each line to its components which are separated by space (for example, each word is a token, word followed by ' is also a token), then each token is an item in the output list, also this function can remove repeated tokens*\n",
    "*The above code tokenize the text line by line and print the tokenization result of the last line, we see from the 'Shakespeare.txt' that the last line is \"THE END\", take the lowercase and tokenize, we get \"the\" and \"end\" in the output list, which is exactly the output.* \n",
    "\n"
   ]
  },
  {
   "cell_type": "markdown",
   "metadata": {
    "deletable": false,
    "tags": [
     "instructions"
    ]
   },
   "source": [
    "Remember that when you close and halt a notebook, any unsaved work in the notebook will be lost.   To save the contents of your notebook, use `Save and Checkpoint` (from the File menu).   \n",
    "\n",
    "---\n",
    "\n",
    "Now it is time for you to write some code.   Let's find the most frequently appearing tokens in Shakespeare's work.\n",
    "\n",
    "#### Question 2 (4/10 marks):\n",
    "In the next box, implement the function `top_50_tokens` using Python code that return the list of the 50 most frequently appearing tokens and their frequency, i.e., the number of times that each occurs.   Please use the `simple_tokenize` function, without modification, to tokenize the text, so that everyone is working with the same definition of what a token is.   If you wish, feel free to start with the Python code in the box above - just copy it from there and paste it below."
   ]
  },
  {
   "cell_type": "code",
   "execution_count": 3,
   "metadata": {
    "deletable": false,
    "tags": [
     "code"
    ]
   },
   "outputs": [],
   "source": [
    "from simple_tokenize import simple_tokenize\n",
    "\n",
    "def top_50_tokens(filename='Shakespeare.txt'):\n",
    "    top_50_tokens_list = []\n",
    "    # In this function, write Python code to find the 50 most frequent tokens in Shakespeare.txt\n",
    "    # Make sure that your code is commented\n",
    "    top_50_tokens_dic = {}\n",
    "    with open(filename) as f:\n",
    "        for line in f:\n",
    "            t = simple_tokenize(line)\n",
    "            for token in t:\n",
    "                if token not in top_50_tokens_dic.keys():\n",
    "                    top_50_tokens_dic[token] = 1\n",
    "                else:\n",
    "                    top_50_tokens_dic[token] += 1\n",
    "    top_50_tokens_dic = {k:v for k, v in sorted(top_50_tokens_dic.items(), key = lambda i : i[1], reverse=True)}\n",
    "    top_50_tokens_dic = {k[0]:k[1] for k in list(top_50_tokens_dic.items())[:50]}\n",
    "    top_50_tokens_list = list(top_50_tokens_dic.items())\n",
    "    return top_50_tokens_list\n"
   ]
  },
  {
   "cell_type": "code",
   "execution_count": 7,
   "metadata": {
    "deletable": false,
    "tags": [
     "tests"
    ]
   },
   "outputs": [
    {
     "name": "stdout",
     "output_type": "stream",
     "text": [
      "[('the', 27378), ('and', 26082), ('i', 20717), ('to', 19661), ('of', 17473), ('a', 14723), ('you', 13630), ('my', 12490), ('in', 10996), ('that', 10915), ('is', 9137), ('not', 8512), ('with', 7778), ('me', 7777), ('it', 7692), ('for', 7578), ('be', 6867), ('his', 6859), ('your', 6657), ('this', 6606), ('but', 6277), ('he', 6260), ('have', 5885), ('as', 5744), ('thou', 5491), ('him', 5205), ('so', 5056), ('will', 4977), ('what', 4469), ('thy', 4034), ('all', 3923), ('her', 3850), ('no', 3797), ('by', 3768), ('do', 3753), ('shall', 3592), ('if', 3500), ('are', 3405), ('we', 3298), ('thee', 3180), ('on', 3062), ('lord', 3062), ('our', 3061), ('king', 2871), ('good', 2834), ('now', 2789), ('sir', 2763), ('from', 2640), ('o', 2621), ('come', 2519)]\n"
     ]
    },
    {
     "data": {
      "text/plain": [
       "50"
      ]
     },
     "execution_count": 7,
     "metadata": {},
     "output_type": "execute_result"
    }
   ],
   "source": [
    "# Your tests here\n",
    "top = top_50_tokens()\n",
    "print(top)\n",
    "len(top)"
   ]
  },
  {
   "cell_type": "markdown",
   "metadata": {
    "deletable": false,
    "tags": [
     "instructions"
    ]
   },
   "source": [
    "Be sure to test the code that you have written by running it.   When you submit your notebook to us, we will run your code when we mark you assignment.   As a sanity test on you output, our reference implementation finds that the most frequent word is \"the\", which occurs 27378 times.\n",
    "\n",
    "---\n",
    "\n",
    "Once you have found the 50 most frequent tokens, let's move on to something slightly more complicated.\n",
    "\n",
    "#### Question 3 (4/10 marks):\n",
    "\n",
    "Instead of the most frequent tokens appearing in Shakespeare's works, suppose that we want a list of words that appear after the word \"perfect\", on the same line, in Shakespeare's text. \n",
    "(Note: the \"words\" we are interested in for this question are tokens, as returned by simple_tokenize.)\n",
    "\n",
    "For example, *All's Well That Ends Well* includes the line\n",
    ">  Ere I can perfect mine intents, to kneel.\n",
    "\n",
    "so \"mine\" should be part of the output, since it follows \"perfect\" on this line.  To keep the output from getting too long, include only words that appear after \"perfect\" on more than one line.\n",
    "\n",
    "In the next box, implement the function `perfect_x` that returns a dictionary of key/value pairs, where the keys are the words that follow perfect on more than one line, and the values the number of lines in which the pattern is observed. For instance, if 'x' follows 'perfect' on 3 different lines, the entry in the dictionary will be ('x':3) As a sanity check on your output, our reference implementation finds 5 such words."
   ]
  },
  {
   "cell_type": "code",
   "execution_count": 16,
   "metadata": {
    "deletable": false,
    "tags": [
     "code"
    ]
   },
   "outputs": [],
   "source": [
    "from simple_tokenize import simple_tokenize\n",
    "\n",
    "def perfect_x(filename = 'Shakespeare.txt'):\n",
    "    perfect_x_list = []\n",
    "    perfect_x_dic = {}\n",
    "    # In this function, write Python code to find tokens that follow \"perfect\" in Shakespeare.txt \n",
    "    # Make sure that your code is commented\n",
    "    with open(filename) as f:\n",
    "        for line in f:\n",
    "            t = simple_tokenize(line)\n",
    "            temp = []\n",
    "            while 'perfect' in t:\n",
    "                if t.index('perfect') == len(t)-1:\n",
    "                    pass\n",
    "                else:\n",
    "                    x = t[t.index('perfect')+1]\n",
    "                    if x not in perfect_x_dic.keys():\n",
    "                        perfect_x_dic[x] = 1\n",
    "                        temp.append(x)\n",
    "                    elif x in temp:\n",
    "                        pass\n",
    "                    else:\n",
    "                        perfect_x_dic[x] += 1\n",
    "                        temp.append(x)\n",
    "                t.remove('perfect')\n",
    "                \n",
    "    perfect_x_list = list(filter(lambda x: perfect_x_dic[x]>1, perfect_x_dic))\n",
    "                    \n",
    "    return perfect_x_list\n"
   ]
  },
  {
   "cell_type": "code",
   "execution_count": 17,
   "metadata": {
    "deletable": false,
    "tags": [
     "tests"
    ]
   },
   "outputs": [
    {
     "name": "stdout",
     "output_type": "stream",
     "text": [
      "['honour', 'in', 'love', 'yellow', 'that']\n"
     ]
    }
   ],
   "source": [
    "# Your tests here\n",
    "print(perfect_x())"
   ]
  },
  {
   "cell_type": "markdown",
   "metadata": {
    "deletable": false,
    "tags": [
     "instructions"
    ]
   },
   "source": [
    "That's it!   Don't forget to save your work before closing and halting your notebook.      \n",
    "\n",
    "When you are finished and ready to submit your assignment, download your notebook file (.ipynb) from the hub to your machine, and then follow the submission instructions in the assignment."
   ]
  }
 ],
 "metadata": {
  "kernelspec": {
   "display_name": "Python 3",
   "language": "python",
   "name": "python3"
  },
  "language_info": {
   "codemirror_mode": {
    "name": "ipython",
    "version": 3
   },
   "file_extension": ".py",
   "mimetype": "text/x-python",
   "name": "python",
   "nbconvert_exporter": "python",
   "pygments_lexer": "ipython3",
   "version": "3.6.8"
  }
 },
 "nbformat": 4,
 "nbformat_minor": 2
}
